{
 "cells": [
  {
   "cell_type": "markdown",
   "metadata": {
    "deletable": true,
    "editable": true
   },
   "source": [
    "###  HW1 How to remove duplicate values in a dataset? "
   ]
  },
  {
   "cell_type": "markdown",
   "metadata": {
    "deletable": true,
    "editable": true
   },
   "source": [
    "#### 1) remove duplicate values from a whole dataset"
   ]
  },
  {
   "cell_type": "code",
   "execution_count": 59,
   "metadata": {
    "collapsed": true,
    "deletable": true,
    "editable": true
   },
   "outputs": [],
   "source": [
    "import numpy as np\n",
    "import pandas as pd\n",
    "import matplotlib.pyplot as plt\n",
    "import datetime\n",
    "%matplotlib inline"
   ]
  },
  {
   "cell_type": "code",
   "execution_count": 28,
   "metadata": {
    "collapsed": false,
    "deletable": true,
    "editable": true
   },
   "outputs": [
    {
     "data": {
      "text/html": [
       "<div>\n",
       "<style scoped>\n",
       "    .dataframe tbody tr th:only-of-type {\n",
       "        vertical-align: middle;\n",
       "    }\n",
       "\n",
       "    .dataframe tbody tr th {\n",
       "        vertical-align: top;\n",
       "    }\n",
       "\n",
       "    .dataframe thead th {\n",
       "        text-align: right;\n",
       "    }\n",
       "</style>\n",
       "<table border=\"1\" class=\"dataframe\">\n",
       "  <thead>\n",
       "    <tr style=\"text-align: right;\">\n",
       "      <th></th>\n",
       "      <th>customer_id</th>\n",
       "      <th>order_amount</th>\n",
       "      <th>order_id</th>\n",
       "    </tr>\n",
       "  </thead>\n",
       "  <tbody>\n",
       "    <tr>\n",
       "      <th>0</th>\n",
       "      <td>1</td>\n",
       "      <td>5</td>\n",
       "      <td>order1</td>\n",
       "    </tr>\n",
       "    <tr>\n",
       "      <th>1</th>\n",
       "      <td>2</td>\n",
       "      <td>6</td>\n",
       "      <td>order2</td>\n",
       "    </tr>\n",
       "    <tr>\n",
       "      <th>2</th>\n",
       "      <td>3</td>\n",
       "      <td>7</td>\n",
       "      <td>order3</td>\n",
       "    </tr>\n",
       "    <tr>\n",
       "      <th>3</th>\n",
       "      <td>3</td>\n",
       "      <td>9</td>\n",
       "      <td>order4</td>\n",
       "    </tr>\n",
       "    <tr>\n",
       "      <th>4</th>\n",
       "      <td>4</td>\n",
       "      <td>8</td>\n",
       "      <td>order4</td>\n",
       "    </tr>\n",
       "    <tr>\n",
       "      <th>5</th>\n",
       "      <td>4</td>\n",
       "      <td>8</td>\n",
       "      <td>order4</td>\n",
       "    </tr>\n",
       "  </tbody>\n",
       "</table>\n",
       "</div>"
      ],
      "text/plain": [
       "   customer_id  order_amount order_id\n",
       "0            1             5   order1\n",
       "1            2             6   order2\n",
       "2            3             7   order3\n",
       "3            3             9   order4\n",
       "4            4             8   order4\n",
       "5            4             8   order4"
      ]
     },
     "execution_count": 28,
     "metadata": {},
     "output_type": "execute_result"
    }
   ],
   "source": [
    "# create a data frame\n",
    "data = pd.DataFrame({'order_id':['order1','order2','order3','order4','order4','order4'\n",
    "                              ], 'customer_id': [1,2,3,3,4,4], 'order_amount': [5,6,7,9,8,8]})\n",
    "data"
   ]
  },
  {
   "cell_type": "code",
   "execution_count": 29,
   "metadata": {
    "collapsed": false,
    "deletable": true,
    "editable": true
   },
   "outputs": [
    {
     "data": {
      "text/plain": [
       "0    False\n",
       "1    False\n",
       "2    False\n",
       "3    False\n",
       "4    False\n",
       "5     True\n",
       "dtype: bool"
      ]
     },
     "execution_count": 29,
     "metadata": {},
     "output_type": "execute_result"
    }
   ],
   "source": [
    "# first check duplicate values for a whole dataset\n",
    "data.duplicated()"
   ]
  },
  {
   "cell_type": "code",
   "execution_count": 30,
   "metadata": {
    "collapsed": false,
    "deletable": true,
    "editable": true
   },
   "outputs": [
    {
     "data": {
      "text/html": [
       "<div>\n",
       "<style scoped>\n",
       "    .dataframe tbody tr th:only-of-type {\n",
       "        vertical-align: middle;\n",
       "    }\n",
       "\n",
       "    .dataframe tbody tr th {\n",
       "        vertical-align: top;\n",
       "    }\n",
       "\n",
       "    .dataframe thead th {\n",
       "        text-align: right;\n",
       "    }\n",
       "</style>\n",
       "<table border=\"1\" class=\"dataframe\">\n",
       "  <thead>\n",
       "    <tr style=\"text-align: right;\">\n",
       "      <th></th>\n",
       "      <th>customer_id</th>\n",
       "      <th>order_amount</th>\n",
       "      <th>order_id</th>\n",
       "    </tr>\n",
       "  </thead>\n",
       "  <tbody>\n",
       "    <tr>\n",
       "      <th>0</th>\n",
       "      <td>1</td>\n",
       "      <td>5</td>\n",
       "      <td>order1</td>\n",
       "    </tr>\n",
       "    <tr>\n",
       "      <th>1</th>\n",
       "      <td>2</td>\n",
       "      <td>6</td>\n",
       "      <td>order2</td>\n",
       "    </tr>\n",
       "    <tr>\n",
       "      <th>2</th>\n",
       "      <td>3</td>\n",
       "      <td>7</td>\n",
       "      <td>order3</td>\n",
       "    </tr>\n",
       "    <tr>\n",
       "      <th>3</th>\n",
       "      <td>3</td>\n",
       "      <td>9</td>\n",
       "      <td>order4</td>\n",
       "    </tr>\n",
       "    <tr>\n",
       "      <th>4</th>\n",
       "      <td>4</td>\n",
       "      <td>8</td>\n",
       "      <td>order4</td>\n",
       "    </tr>\n",
       "  </tbody>\n",
       "</table>\n",
       "</div>"
      ],
      "text/plain": [
       "   customer_id  order_amount order_id\n",
       "0            1             5   order1\n",
       "1            2             6   order2\n",
       "2            3             7   order3\n",
       "3            3             9   order4\n",
       "4            4             8   order4"
      ]
     },
     "execution_count": 30,
     "metadata": {},
     "output_type": "execute_result"
    }
   ],
   "source": [
    "# drop the duplicates\n",
    "data.drop_duplicates()"
   ]
  },
  {
   "cell_type": "markdown",
   "metadata": {
    "deletable": true,
    "editable": true
   },
   "source": [
    "#### 2) remove duplicate values from just from a particular colum, for example, from customer_id"
   ]
  },
  {
   "cell_type": "code",
   "execution_count": 31,
   "metadata": {
    "collapsed": false,
    "deletable": true,
    "editable": true
   },
   "outputs": [
    {
     "data": {
      "text/plain": [
       "0    False\n",
       "1    False\n",
       "2    False\n",
       "3     True\n",
       "4    False\n",
       "5     True\n",
       "Name: customer_id, dtype: bool"
      ]
     },
     "execution_count": 31,
     "metadata": {},
     "output_type": "execute_result"
    }
   ],
   "source": [
    "# check duplicate values for column customer_id\n",
    "data.customer_id.duplicated()"
   ]
  },
  {
   "cell_type": "code",
   "execution_count": 32,
   "metadata": {
    "collapsed": false,
    "deletable": true,
    "editable": true
   },
   "outputs": [
    {
     "data": {
      "text/html": [
       "<div>\n",
       "<style scoped>\n",
       "    .dataframe tbody tr th:only-of-type {\n",
       "        vertical-align: middle;\n",
       "    }\n",
       "\n",
       "    .dataframe tbody tr th {\n",
       "        vertical-align: top;\n",
       "    }\n",
       "\n",
       "    .dataframe thead th {\n",
       "        text-align: right;\n",
       "    }\n",
       "</style>\n",
       "<table border=\"1\" class=\"dataframe\">\n",
       "  <thead>\n",
       "    <tr style=\"text-align: right;\">\n",
       "      <th></th>\n",
       "      <th>customer_id</th>\n",
       "      <th>order_amount</th>\n",
       "      <th>order_id</th>\n",
       "    </tr>\n",
       "  </thead>\n",
       "  <tbody>\n",
       "    <tr>\n",
       "      <th>0</th>\n",
       "      <td>1</td>\n",
       "      <td>5</td>\n",
       "      <td>order1</td>\n",
       "    </tr>\n",
       "    <tr>\n",
       "      <th>1</th>\n",
       "      <td>2</td>\n",
       "      <td>6</td>\n",
       "      <td>order2</td>\n",
       "    </tr>\n",
       "    <tr>\n",
       "      <th>2</th>\n",
       "      <td>3</td>\n",
       "      <td>7</td>\n",
       "      <td>order3</td>\n",
       "    </tr>\n",
       "    <tr>\n",
       "      <th>4</th>\n",
       "      <td>4</td>\n",
       "      <td>8</td>\n",
       "      <td>order4</td>\n",
       "    </tr>\n",
       "  </tbody>\n",
       "</table>\n",
       "</div>"
      ],
      "text/plain": [
       "   customer_id  order_amount order_id\n",
       "0            1             5   order1\n",
       "1            2             6   order2\n",
       "2            3             7   order3\n",
       "4            4             8   order4"
      ]
     },
     "execution_count": 32,
     "metadata": {},
     "output_type": "execute_result"
    }
   ],
   "source": [
    "# drop duplicate customer_id, here we choose to keep the fist value. Alternatively, we can also keep the last value, \n",
    "# or drop all duplicated values.\n",
    "data.drop_duplicates(['customer_id'], keep = 'first')"
   ]
  },
  {
   "cell_type": "markdown",
   "metadata": {
    "deletable": true,
    "editable": true
   },
   "source": [
    "###  HW 2\n",
    "#### You are given two tables - friend_request and request_accepted. Friend_request contains requester_id, time and sent_to_id and\n",
    "#### request_accepted table contains time, acceptor_id and requestor_id. How will you determine the overall acceptance rate of requests?"
   ]
  },
  {
   "cell_type": "code",
   "execution_count": 33,
   "metadata": {
    "collapsed": false,
    "deletable": true,
    "editable": true
   },
   "outputs": [
    {
     "data": {
      "text/html": [
       "<div>\n",
       "<style scoped>\n",
       "    .dataframe tbody tr th:only-of-type {\n",
       "        vertical-align: middle;\n",
       "    }\n",
       "\n",
       "    .dataframe tbody tr th {\n",
       "        vertical-align: top;\n",
       "    }\n",
       "\n",
       "    .dataframe thead th {\n",
       "        text-align: right;\n",
       "    }\n",
       "</style>\n",
       "<table border=\"1\" class=\"dataframe\">\n",
       "  <thead>\n",
       "    <tr style=\"text-align: right;\">\n",
       "      <th></th>\n",
       "      <th>requester_id</th>\n",
       "      <th>sent_to_id</th>\n",
       "      <th>time</th>\n",
       "    </tr>\n",
       "  </thead>\n",
       "  <tbody>\n",
       "    <tr>\n",
       "      <th>0</th>\n",
       "      <td>r1</td>\n",
       "      <td>s1</td>\n",
       "      <td>t1</td>\n",
       "    </tr>\n",
       "    <tr>\n",
       "      <th>1</th>\n",
       "      <td>r2</td>\n",
       "      <td>s2</td>\n",
       "      <td>t2</td>\n",
       "    </tr>\n",
       "    <tr>\n",
       "      <th>2</th>\n",
       "      <td>r3</td>\n",
       "      <td>s3</td>\n",
       "      <td>t3</td>\n",
       "    </tr>\n",
       "    <tr>\n",
       "      <th>3</th>\n",
       "      <td>r4</td>\n",
       "      <td>s4</td>\n",
       "      <td>t4</td>\n",
       "    </tr>\n",
       "    <tr>\n",
       "      <th>4</th>\n",
       "      <td>r5</td>\n",
       "      <td>s5</td>\n",
       "      <td>t5</td>\n",
       "    </tr>\n",
       "  </tbody>\n",
       "</table>\n",
       "</div>"
      ],
      "text/plain": [
       "  requester_id sent_to_id time\n",
       "0           r1         s1   t1\n",
       "1           r2         s2   t2\n",
       "2           r3         s3   t3\n",
       "3           r4         s4   t4\n",
       "4           r5         s5   t5"
      ]
     },
     "execution_count": 33,
     "metadata": {},
     "output_type": "execute_result"
    }
   ],
   "source": [
    "# create friend_request data table\n",
    "friend_request = pd.DataFrame({\"requester_id\":['r1','r2','r3','r4','r5'],\"time\":[\n",
    "    \"t1\",\"t2\",\"t3\",\"t4\",\"t5\"], \"sent_to_id\":[\"s1\",\"s2\",\"s3\",\"s4\",\"s5\"]})\n",
    "friend_request"
   ]
  },
  {
   "cell_type": "code",
   "execution_count": 34,
   "metadata": {
    "collapsed": false,
    "deletable": true,
    "editable": true
   },
   "outputs": [
    {
     "data": {
      "text/html": [
       "<div>\n",
       "<style scoped>\n",
       "    .dataframe tbody tr th:only-of-type {\n",
       "        vertical-align: middle;\n",
       "    }\n",
       "\n",
       "    .dataframe tbody tr th {\n",
       "        vertical-align: top;\n",
       "    }\n",
       "\n",
       "    .dataframe thead th {\n",
       "        text-align: right;\n",
       "    }\n",
       "</style>\n",
       "<table border=\"1\" class=\"dataframe\">\n",
       "  <thead>\n",
       "    <tr style=\"text-align: right;\">\n",
       "      <th></th>\n",
       "      <th>accepter_id</th>\n",
       "      <th>requester_id</th>\n",
       "      <th>time</th>\n",
       "    </tr>\n",
       "  </thead>\n",
       "  <tbody>\n",
       "    <tr>\n",
       "      <th>0</th>\n",
       "      <td>s2</td>\n",
       "      <td>r2</td>\n",
       "      <td>t6</td>\n",
       "    </tr>\n",
       "    <tr>\n",
       "      <th>1</th>\n",
       "      <td>s4</td>\n",
       "      <td>r4</td>\n",
       "      <td>t7</td>\n",
       "    </tr>\n",
       "    <tr>\n",
       "      <th>2</th>\n",
       "      <td>s5</td>\n",
       "      <td>r5</td>\n",
       "      <td>t8</td>\n",
       "    </tr>\n",
       "  </tbody>\n",
       "</table>\n",
       "</div>"
      ],
      "text/plain": [
       "  accepter_id requester_id time\n",
       "0          s2           r2   t6\n",
       "1          s4           r4   t7\n",
       "2          s5           r5   t8"
      ]
     },
     "execution_count": 34,
     "metadata": {},
     "output_type": "execute_result"
    }
   ],
   "source": [
    "# # create request_accepted data table\n",
    "request_accepted = pd.DataFrame({\"time\":[\"t6\",\"t7\",\"t8\"],\"accepter_id\":[\n",
    "    's2','s4','s5'], \"requester_id\":[\"r2\",'r4','r5']})\n",
    "request_accepted"
   ]
  },
  {
   "cell_type": "code",
   "execution_count": 11,
   "metadata": {
    "collapsed": false,
    "deletable": true,
    "editable": true
   },
   "outputs": [
    {
     "data": {
      "text/html": [
       "<div>\n",
       "<style scoped>\n",
       "    .dataframe tbody tr th:only-of-type {\n",
       "        vertical-align: middle;\n",
       "    }\n",
       "\n",
       "    .dataframe tbody tr th {\n",
       "        vertical-align: top;\n",
       "    }\n",
       "\n",
       "    .dataframe thead th {\n",
       "        text-align: right;\n",
       "    }\n",
       "</style>\n",
       "<table border=\"1\" class=\"dataframe\">\n",
       "  <thead>\n",
       "    <tr style=\"text-align: right;\">\n",
       "      <th></th>\n",
       "      <th>requester_id</th>\n",
       "      <th>sent_to_id</th>\n",
       "      <th>time_x</th>\n",
       "      <th>accepter_id</th>\n",
       "      <th>time_y</th>\n",
       "    </tr>\n",
       "  </thead>\n",
       "  <tbody>\n",
       "    <tr>\n",
       "      <th>0</th>\n",
       "      <td>r1</td>\n",
       "      <td>s1</td>\n",
       "      <td>t1</td>\n",
       "      <td>NaN</td>\n",
       "      <td>NaN</td>\n",
       "    </tr>\n",
       "    <tr>\n",
       "      <th>1</th>\n",
       "      <td>r2</td>\n",
       "      <td>s2</td>\n",
       "      <td>t2</td>\n",
       "      <td>s2</td>\n",
       "      <td>t6</td>\n",
       "    </tr>\n",
       "    <tr>\n",
       "      <th>2</th>\n",
       "      <td>r3</td>\n",
       "      <td>s3</td>\n",
       "      <td>t3</td>\n",
       "      <td>NaN</td>\n",
       "      <td>NaN</td>\n",
       "    </tr>\n",
       "    <tr>\n",
       "      <th>3</th>\n",
       "      <td>r4</td>\n",
       "      <td>s4</td>\n",
       "      <td>t4</td>\n",
       "      <td>s4</td>\n",
       "      <td>t7</td>\n",
       "    </tr>\n",
       "    <tr>\n",
       "      <th>4</th>\n",
       "      <td>r5</td>\n",
       "      <td>s5</td>\n",
       "      <td>t5</td>\n",
       "      <td>s5</td>\n",
       "      <td>t8</td>\n",
       "    </tr>\n",
       "  </tbody>\n",
       "</table>\n",
       "</div>"
      ],
      "text/plain": [
       "  requester_id sent_to_id time_x accepter_id time_y\n",
       "0           r1         s1     t1         NaN    NaN\n",
       "1           r2         s2     t2          s2     t6\n",
       "2           r3         s3     t3         NaN    NaN\n",
       "3           r4         s4     t4          s4     t7\n",
       "4           r5         s5     t5          s5     t8"
      ]
     },
     "execution_count": 11,
     "metadata": {},
     "output_type": "execute_result"
    }
   ],
   "source": [
    "# merge two tables\n",
    "merged = friend_request.merge(request_accepted, how = 'left', on = 'requester_id')\n",
    "merged"
   ]
  },
  {
   "cell_type": "code",
   "execution_count": 12,
   "metadata": {
    "collapsed": false,
    "deletable": true,
    "editable": true
   },
   "outputs": [
    {
     "data": {
      "text/plain": [
       "0.6"
      ]
     },
     "execution_count": 12,
     "metadata": {},
     "output_type": "execute_result"
    }
   ],
   "source": [
    "# acceptance rate\n",
    "merged.accepter_id.notnull().sum()/float(len(merged.accepter_id))"
   ]
  },
  {
   "cell_type": "markdown",
   "metadata": {
    "deletable": true,
    "editable": true
   },
   "source": [
    "#### Code in SQL"
   ]
  },
  {
   "cell_type": "markdown",
   "metadata": {
    "deletable": true,
    "editable": true
   },
   "source": [
    "SELECT SUM(IF(accepter_id IS NOT NULL, 1, 0)) / COUNT(accepter_id)\n",
    "\n",
    "FROM friend_request fr\n",
    "\n",
    "LEFT JOIN request_accepted ra\n",
    "\n",
    "ON fr.requester_id = ra.requester_id;\n",
    "\n"
   ]
  },
  {
   "cell_type": "markdown",
   "metadata": {
    "deletable": true,
    "editable": true
   },
   "source": [
    "### HW 3\n",
    "#### “Issuer” of a credit card are companies like Visa,\n",
    "Mastercard, American Express. Now we know the\n",
    "following rules:\n",
    "\n",
    "CC number starts with: '4'\n",
    "CC len : 16\n",
    "Issuer: VISA\n",
    "\n",
    "CC number starts with: '34', '37'\n",
    "CC len : 15\n",
    "Issuer : AMEX\n",
    "\n",
    "CC number starts with: '36'\n",
    "CC len : 14\n",
    "Issuer : Diners Club\n",
    "\n",
    "Credit card number starts with\n",
    "'4026', '417500', '4405', '4508', '4844',\n",
    "'4913', '4917'\n",
    "CC len : 16\n",
    "Issuer : VISAELECTRON"
   ]
  },
  {
   "cell_type": "markdown",
   "metadata": {
    "deletable": true,
    "editable": true
   },
   "source": [
    "Now write Python scripts to identify the issuer of the\n",
    "following credit card numbers:\n",
    "\n",
    "'4175004175004172' '4917491749174917' '346416800707698' '376416800707698' '37641680070769832112' \n",
    "'36641680070769' '54545641680070769’"
   ]
  },
  {
   "cell_type": "code",
   "execution_count": 71,
   "metadata": {
    "collapsed": false,
    "deletable": true,
    "editable": true
   },
   "outputs": [],
   "source": [
    "def iden_issuer(CC):\n",
    "    if CC.startswith(\"4\") and len(CC) == 16:\n",
    "        check_CC = CC[0:6]\n",
    "        if (check_CC[0:4] == ('4026|4405|4508|4844|4913') or check_CC[0:6] == ('417500')):\n",
    "            return 'VISAELECTRON'\n",
    "        else:\n",
    "            return 'VISA'\n",
    "    elif (CC[0:2] == '34' or CC[0:2] == '37') and len(CC) == 15:\n",
    "        return \"AMEX\"\n",
    "    elif CC[0:2] == '36' and len(CC) == 14:\n",
    "        return \"Diners Club\"\n",
    "    else:\n",
    "        return \"undefined\""
   ]
  },
  {
   "cell_type": "code",
   "execution_count": 72,
   "metadata": {
    "collapsed": true,
    "deletable": true,
    "editable": true
   },
   "outputs": [],
   "source": [
    "card = [\n",
    "    '4175004175004172','4917491749174917','346416800707698','376416800707698','37641680070769832112','36641680070769','54545641680070769']"
   ]
  },
  {
   "cell_type": "code",
   "execution_count": 90,
   "metadata": {
    "collapsed": false,
    "deletable": true,
    "editable": true
   },
   "outputs": [
    {
     "name": "stdout",
     "output_type": "stream",
     "text": [
      " 4175004175004172 VISAELECTRON\n",
      "4917491749174917 VISA\n",
      "346416800707698 AMEX\n",
      "376416800707698 AMEX\n",
      "37641680070769832112 undefined\n",
      "36641680070769 Diners Club\n",
      "54545641680070769 undefined\n"
     ]
    }
   ],
   "source": [
    "for c in card:\n",
    "    print c, iden_issuer(c)"
   ]
  },
  {
   "cell_type": "markdown",
   "metadata": {
    "collapsed": true,
    "deletable": true,
    "editable": true
   },
   "source": [
    "### HW 4 PrintCumulativeTimeSeries()"
   ]
  },
  {
   "cell_type": "code",
   "execution_count": 97,
   "metadata": {
    "collapsed": false
   },
   "outputs": [],
   "source": [
    "def PrintCumulativeTimeSeries(experiment_id, country, vertical):\n",
    "    df = pd.read_csv('BA501_python_data.csv')\n",
    "    df_country = df[(df.country == country) & (df.vertical == vertical)]\n",
    "    exp = df_country[df_country.experiment_id == experiment_id[0]].groupby('date')['spend_usd'].sum()\n",
    "    con = df_JP[df_JP.experiment_id == experiment_id[1]].groupby('date')['spend_usd'].sum()\n",
    "    \n",
    "    fig, ax = plt.subplots()\n",
    "    ax.plot(exp.cumsum(), c = 'red', label = 'experiment')\n",
    "    ax.plot(con.cumsum(), c= 'blue', label = 'control')\n",
    "   # to put the small scale variables in the same chart with big scale variables,  \n",
    "   #need to bring small scale variables to similar scale with big variables. \n",
    "    ax.plot((exp-con)/(con)*50000, c = 'yellow', label = 'exp vs cont')\n",
    "    plt.gcf().autofmt_xdate()\n",
    "\n",
    "    ax.legend(loc=2).get_texts()[0].set_text(\"experiment\")\n",
    "    ax.legend(loc=2).get_texts()[1].set_text(\"control\")\n",
    "    ax.legend(loc=2).get_texts()[2].set_text(\"exp vs cont\")\n"
   ]
  },
  {
   "cell_type": "code",
   "execution_count": 98,
   "metadata": {
    "collapsed": false
   },
   "outputs": [
    {
     "data": {
      "image/png": "[encoded data removed]",
      "text/plain": [
       "<matplotlib.figure.Figure at 0x109152a50>"
      ]
     },
     "metadata": {},
     "output_type": "display_data"
    }
   ],
   "source": [
    "PrintCumulativeTimeSeries([12624548,12624549], 'JP', 'ANDROID_APPS')"
   ]
  },
  {
   "cell_type": "code",
   "execution_count": null,
   "metadata": {
    "collapsed": true
   },
   "outputs": [],
   "source": []
  }
 ],
 "metadata": {
  "kernelspec": {
   "display_name": "Python 2",
   "language": "python",
   "name": "python2"
  },
  "language_info": {
   "codemirror_mode": {
    "name": "ipython",
    "version": 2
   },
   "file_extension": ".py",
   "mimetype": "text/x-python",
   "name": "python",
   "nbconvert_exporter": "python",
   "pygments_lexer": "ipython2",
   "version": "2.7.11"
  }
 },
 "nbformat": 4,
 "nbformat_minor": 2
}
